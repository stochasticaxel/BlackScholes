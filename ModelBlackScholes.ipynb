{
 "cells": [
  {
   "cell_type": "markdown",
   "metadata": {},
   "source": [
    "# How to use Equity prices to estimate default probabilities?\n"
   ]
  },
  {
   "cell_type": "markdown",
   "metadata": {},
   "source": [
    "In 1974, Merton published \"On the Pricing of Corporate Debt: The Risk Structure of Interest Rates\", in which he proposes a model where a company’s equity is an option on the assets of the company\n"
   ]
  },
  {
   "cell_type": "markdown",
   "metadata": {},
   "source": [
    "$V_0$ : Value of company’s assets today\n",
    "\n",
    "$V_T$ : Value of company’s assets at time T\n",
    "\n",
    "$E_0$: Value of company’s equity today\n",
    "\n",
    "$E_T$: Value of company’s equity at time T\n",
    "\n",
    "$D$: Debt repayment due at time T\n",
    "\n",
    "$\\sigma_V$ : Volatility of assets (assumed constant)\n",
    "\n",
    "$\\sigma_E$ : Instantaneous volatility of equity"
   ]
  },
  {
   "cell_type": "markdown",
   "metadata": {},
   "source": [
    "If $V_T$ < $D$, it is rational for the company to default on the debt at time $T$.The value of the equity $E_T = 0$\n",
    "\n",
    "If $V_T$ > $D$, the company should make the debt repayment at time $T$ and the value of the equity $E_T = V_T- D$\n",
    "\n",
    "Therefore, the value of the firm’s equity at time T is $E_T = max(V_T-D; 0)$"
   ]
  },
  {
   "cell_type": "markdown",
   "metadata": {},
   "source": [
    "#### The Black–Scholes–Merton formula gives the value of the equity today as\n",
    "#### (1) $$E_0 = V_0 N(d_1)-De^{rT}N(d_2)$$"
   ]
  },
  {
   "cell_type": "markdown",
   "metadata": {},
   "source": [
    "$$d_1 = \\frac{ln\\left(V_0/D\\right)+\\left(r+\\sigma_V^2/2\\right)T}{\\sigma_V\\sqrt{T}}$$"
   ]
  },
  {
   "cell_type": "markdown",
   "metadata": {},
   "source": [
    "$$d_2 = d_1 - \\sigma_V \\sqrt{T}$$"
   ]
  },
  {
   "cell_type": "markdown",
   "metadata": {},
   "source": [
    "#### The risk-neutral probability that the company will default on the debt is \n",
    "$$1-N(d_2) = N(-d_2)$$\\\n",
    "To calculate this, we require $V_0$ and $\\sigma_V$ We only have one equation for two unknowns, we need a second equation to estimate $V_0$ and $\\sigma_V$ "
   ]
  },
  {
   "cell_type": "markdown",
   "metadata": {},
   "source": [
    "#### From Ito’s lemma we have, \n",
    "#### (2) $$\\sigma_E E_0 = \\frac{\\partial{E}}{\\partial{V}}\\sigma_V V_0 = N(d_1)\\sigma_V V_0$$"
   ]
  },
  {
   "cell_type": "code",
   "execution_count": 37,
   "metadata": {},
   "outputs": [],
   "source": [
    "import numpy as np\n",
    "import scipy\n",
    "import scipy.stats as si\n",
    "from scipy import optimize"
   ]
  },
  {
   "cell_type": "code",
   "execution_count": 22,
   "metadata": {},
   "outputs": [],
   "source": [
    "# First Equation, the B&S call price\n",
    "\n",
    "def BS_call(V0, D, T, r, sigma):\n",
    "    \n",
    "    #V0: value of company's asset today\n",
    "    #D: debt repayment due at time T\n",
    "    #T: time to maturity\n",
    "    #r: interest rate\n",
    "    #sigma: volatility of assets (assumed constant)\n",
    "    \n",
    "    d1 = (np.log(V0 / D) + (r + 0.5 * sigma ** 2) * T) / (sigma * np.sqrt(T))\n",
    "    d2 = (np.log(V0 / D) + (r - 0.5 * sigma ** 2) * T) / (sigma * np.sqrt(T))\n",
    "    \n",
    "    call = (V0 * si.norm.cdf(d1, 0.0, 1.0) - D * np.exp(-r * T) * si.norm.cdf(d2, 0.0, 1.0))\n",
    "    # cdf means Cumulative distribution function\n",
    "    \n",
    "    return call"
   ]
  },
  {
   "cell_type": "code",
   "execution_count": 23,
   "metadata": {},
   "outputs": [],
   "source": [
    "#Second Equation, from Ito's Lemma\n",
    "\n",
    "def volatility_of_equity(V0, D, T, r, sigma, E0):\n",
    "    \n",
    "    #V0: value of company's asset today\n",
    "    #D: debt repayment due at time T\n",
    "    #T: time to maturity\n",
    "    #r: interest rate\n",
    "    #sigma: volatility of assets (assumed constant)\n",
    "    #E0: value of company's equity today\n",
    "    \n",
    "    d1 = (np.log(V0 / D) + (r + 0.5 * sigma ** 2) * T) / (sigma * np.sqrt(T))\n",
    "    \n",
    "    volatility = si.norm.cdf(d1, 0.0, 1.0)*sigma*V0*(1/E0)\n",
    "    # cdf means Cumulative distribution function\n",
    "    \n",
    "    return volatility "
   ]
  },
  {
   "cell_type": "code",
   "execution_count": 24,
   "metadata": {},
   "outputs": [
    {
     "data": {
      "text/plain": [
       "3004198.184797439"
      ]
     },
     "execution_count": 24,
     "metadata": {},
     "output_type": "execute_result"
    }
   ],
   "source": [
    "BS_call(12400000, 10000000, 1, 0.05, 0.2123)"
   ]
  },
  {
   "cell_type": "code",
   "execution_count": 25,
   "metadata": {},
   "outputs": [
    {
     "data": {
      "text/plain": [
       "0.8005288044340673"
      ]
     },
     "execution_count": 25,
     "metadata": {},
     "output_type": "execute_result"
    }
   ],
   "source": [
    "volatility_of_equity(12400000, 10000000, 1, 0.05, 0.2123, 3000000)"
   ]
  },
  {
   "cell_type": "markdown",
   "metadata": {},
   "source": [
    "#### In order to find $V_0$ and $\\sigma_V$, we define the following functions: \n",
    "$$F(V_0,\\sigma_V)= V_0 N(d_1)-De^{rT}N(d_2)-E_0$$\n",
    "$$G(V_0,\\sigma_V)= N(d_1)\\sigma_V V_0 \\frac{1}{E_0}-\\sigma_E$$"
   ]
  },
  {
   "cell_type": "markdown",
   "metadata": {},
   "source": [
    "Our goal is to find the vector $(V_0,\\sigma_V)$ such as:\n",
    "$$F(V_0,\\sigma_V) = 0$$\n",
    "$$G(V_0,\\sigma_V) = 0$$\n",
    "That means we need to find the roots of these two functions, but the problem is that there is no closed form solution to this equation. We must vary the $(V_0,\\sigma_V)$ vector with a trial and error process in order to optimize its value and find the roots. Fortunately, many multi-objective optimisation programms already exist in the scipy.optimize library."
   ]
  },
  {
   "cell_type": "code",
   "execution_count": 43,
   "metadata": {},
   "outputs": [],
   "source": [
    "def fonction_a_optimiser(X):\n",
    "    \n",
    "    V0 = X[0]\n",
    "    sigma_asset = X[1] \n",
    "    \n",
    "    if not 0<=sigma_asset<=1 :   \n",
    "        return [np.nan, np.nan]\n",
    "    if not 0<=V0 :\n",
    "         return [np.nan, np.nan]\n",
    "    \n",
    "    E0 = 3004198.18\n",
    "    D = 10000000\n",
    "    T = 1\n",
    "    r = 0.05 \n",
    "    sigma_equity = 0.8005288044340673\n",
    "    \n",
    "    a = BS_call(V0, D, T, r, sigma_asset)-E0\n",
    "    \n",
    "    b = volatility_of_equity(V0, D, T, r, sigma_asset, E0)-sigma_equity\n",
    "    \n",
    "    return [a, b]"
   ]
  },
  {
   "cell_type": "markdown",
   "metadata": {},
   "source": [
    "Let's test the function with the right values and see if we get $[0,0]$"
   ]
  },
  {
   "cell_type": "code",
   "execution_count": 27,
   "metadata": {},
   "outputs": [
    {
     "data": {
      "text/plain": [
       "[0.004797438625246286, -0.0011186891858775416]"
      ]
     },
     "execution_count": 27,
     "metadata": {},
     "output_type": "execute_result"
    }
   ],
   "source": [
    "fonction_a_optimiser([12400000, 0.2123])"
   ]
  },
  {
   "cell_type": "markdown",
   "metadata": {},
   "source": [
    "We are close enough to $[0,0]$ say that the function is well defined"
   ]
  },
  {
   "cell_type": "markdown",
   "metadata": {},
   "source": [
    "The purpose of HYBRD is to find a zero of a system of N non-linear functions in N variables by a modification of the Powell hybrid method.  The user must provide a subroutine which calculates the functions.  The Jacobian is then calculated by a for-ward-difference approximation."
   ]
  },
  {
   "cell_type": "code",
   "execution_count": 101,
   "metadata": {},
   "outputs": [
    {
     "name": "stdout",
     "output_type": "stream",
     "text": [
      "[-3.00419818e+06 -8.00528804e-01]\n"
     ]
    }
   ],
   "source": [
    "sol = scipy.optimize.root(fonction_a_optimiser, x0=[1_000_000,0.2123],method='hybr')\n",
    "print(sol.qtf)"
   ]
  },
  {
   "cell_type": "markdown",
   "metadata": {},
   "source": [
    "**We get a really good approximation for the value of the company's assets $V_0$. However the HYBRYD method do not accept the constraint on the volatility of assets: $0\\leq  \\sigma_V \\leq 1$. This is a huge problem since we get completely out of the range values for $\\sigma_V$, even with an initilal guess at $0.5$. How can we resolve this issue?**"
   ]
  },
  {
   "cell_type": "markdown",
   "metadata": {},
   "source": [
    "One solution could be to find a bijective function $f$, such as  $$f:[0,1]\\longmapsto R^2$$\n",
    "\n",
    "We apply $f$ to $\\sigma_V$ $\\Longrightarrow$ find the roots with HYBRD method on $f(\\sigma_V)$ $\\Longrightarrow$ apply $f^{-1}$\n",
    "\n",
    "Inverse Hyperbolic Tangent is a good candidate since it satisfies all the conditions above"
   ]
  },
  {
   "cell_type": "code",
   "execution_count": 41,
   "metadata": {},
   "outputs": [],
   "source": [
    "E0 = 3004198.18\n",
    "D = 10000000\n",
    "T = 1\n",
    "r = 0.05 \n",
    "sigma_equity = 0.8005288044340673\n",
    "\n",
    "def fonction_arctanh(X):\n",
    "    \n",
    "    V0 = X[0]\n",
    "    sigma_asset = X[1] \n",
    "    \n",
    "    new_sigma = np.arctanh(2*sigma_asset-1)\n",
    "    \n",
    "    a = BS_call(V0, D, T, r, new_sigma)-E0\n",
    "    \n",
    "    b = volatility_of_equity(V0, D, T, r, new_sigma, E0)-sigma_equity\n",
    "    \n",
    "    return [a, b]"
   ]
  },
  {
   "cell_type": "code",
   "execution_count": 42,
   "metadata": {},
   "outputs": [
    {
     "name": "stderr",
     "output_type": "stream",
     "text": [
      "<ipython-input-22-2e0661643432>:11: RuntimeWarning: divide by zero encountered in double_scalars\n",
      "  d1 = (np.log(V0 / D) + (r + 0.5 * sigma ** 2) * T) / (sigma * np.sqrt(T))\n",
      "<ipython-input-22-2e0661643432>:12: RuntimeWarning: divide by zero encountered in double_scalars\n",
      "  d2 = (np.log(V0 / D) + (r - 0.5 * sigma ** 2) * T) / (sigma * np.sqrt(T))\n",
      "<ipython-input-41-5f03f05edcbd>:12: RuntimeWarning: invalid value encountered in arctanh\n",
      "  new_sigma = np.arctanh(2*sigma_asset-1)\n"
     ]
    },
    {
     "data": {
      "text/plain": [
       "    fjac: array([[1., 0.],\n",
       "       [0., 1.]])\n",
       "     fun: array([-3.00419818e+06, -8.00528804e-01])\n",
       " message: 'The iteration is not making good progress, as measured by the \\n  improvement from the last ten iterations.'\n",
       "    nfev: 15\n",
       "     qtf: array([-3.00419818e+06, -8.00528804e-01])\n",
       "       r: array([nan, nan, nan])\n",
       "  status: 5\n",
       " success: False\n",
       "       x: array([1.e+06, 5.e-01])"
      ]
     },
     "execution_count": 42,
     "metadata": {},
     "output_type": "execute_result"
    }
   ],
   "source": [
    "scipy.optimize.root(fonction_arctanh, x0=[1000_000,0.5],method='hybr')\n"
   ]
  },
  {
   "cell_type": "markdown",
   "metadata": {},
   "source": [
    "Unforntunaltely, this solution doesn't work because of the complexity encountered by the optimization algorithm"
   ]
  },
  {
   "cell_type": "markdown",
   "metadata": {},
   "source": [
    "**From now on, we will first run the multi-objective optimization. Since the value of the company's assets $V_0$ is really well approximated we will consider its value as found. Then we will perform a single-objective optimization in order to find the volatility of assets $\\sigma_V$, where $V_0$ will be a constant. That's not the optmal solution but its works well in practice**"
   ]
  },
  {
   "cell_type": "markdown",
   "metadata": {},
   "source": [
    "We found above $V_0 = 3 004 197.17$"
   ]
  },
  {
   "cell_type": "code",
   "execution_count": 85,
   "metadata": {},
   "outputs": [],
   "source": [
    "def fonction_v_constante(sigma_asset):\n",
    "    \n",
    "    if not 0<=sigma_asset<=1 :   \n",
    "        return np.nan\n",
    "    \n",
    "    V0 = 3_004_197.17\n",
    "    E0 = 3004198.18\n",
    "    D = 10000000\n",
    "    T = 1\n",
    "    r = 0.05 \n",
    "    sigma_equity = 0.8\n",
    "    \n",
    "    b = volatility_of_equity(V0, D, T, r, sigma_asset, E0)-sigma_equity\n",
    "    \n",
    "    return b"
   ]
  },
  {
   "cell_type": "code",
   "execution_count": 86,
   "metadata": {},
   "outputs": [
    {
     "data": {
      "text/plain": [
       "-0.7999999891558043"
      ]
     },
     "execution_count": 86,
     "metadata": {},
     "output_type": "execute_result"
    }
   ],
   "source": [
    "fonction_v_constante(0.2123)"
   ]
  },
  {
   "cell_type": "code",
   "execution_count": 95,
   "metadata": {},
   "outputs": [
    {
     "name": "stdout",
     "output_type": "stream",
     "text": [
      "[0.79996661]\n"
     ]
    }
   ],
   "source": [
    "sol = scipy.optimize.root(fonction_v_constante, x0=0.3,method='hybr')\n",
    "print(sol.qtf)"
   ]
  },
  {
   "cell_type": "markdown",
   "metadata": {},
   "source": [
    "Finally we get the value of volatility of assets $$\\sigma_v = 0.79056266$$"
   ]
  },
  {
   "cell_type": "markdown",
   "metadata": {},
   "source": [
    "#### Now we have $(V_0, \\sigma_v)$ we can calculate the risk-neutral probability that the company will default on the debt\n",
    "$$1-N(d_2) = N(-d_2)$$"
   ]
  },
  {
   "cell_type": "code",
   "execution_count": 97,
   "metadata": {},
   "outputs": [
    {
     "name": "stdout",
     "output_type": "stream",
     "text": [
      "-5.544237626418172\n",
      "0.9999999852381166\n"
     ]
    }
   ],
   "source": [
    "#The values we were missing and got with the optimization \n",
    "V0 = 3_000_000\n",
    "sigma_asset = 0.2122\n",
    "\n",
    "#The values we already got\n",
    "D = 10_000_000\n",
    "T = 1\n",
    "r = 0.05 \n",
    "\n",
    "d2 = (np.log(V0 / D) + (r - 0.5 * sigma_asset ** 2) * T) / (sigma_asset * np.sqrt(T))\n",
    "print (d2)\n",
    "\n",
    "probability_of_default = si.norm.cdf(-d2, 0.0, 1.0)\n",
    "print(probability_of_default)"
   ]
  },
  {
   "cell_type": "code",
   "execution_count": null,
   "metadata": {},
   "outputs": [],
   "source": []
  }
 ],
 "metadata": {
  "kernelspec": {
   "display_name": "Python 3",
   "language": "python",
   "name": "python3"
  },
  "language_info": {
   "codemirror_mode": {
    "name": "ipython",
    "version": 3
   },
   "file_extension": ".py",
   "mimetype": "text/x-python",
   "name": "python",
   "nbconvert_exporter": "python",
   "pygments_lexer": "ipython3",
   "version": "3.8.6"
  }
 },
 "nbformat": 4,
 "nbformat_minor": 4
}
