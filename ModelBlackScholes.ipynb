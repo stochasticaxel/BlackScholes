{
 "cells": [
  {
   "cell_type": "markdown",
   "metadata": {},
   "source": [
    "# How to use Equity prices to estimate default probabilities?\n"
   ]
  },
  {
   "cell_type": "markdown",
   "metadata": {},
   "source": [
    "In 1974, Merton published \"On the Pricing of Corporate Debt: The Risk Structure of Interest Rates\", in which he proposes a model where a company’s equity is an option on the assets of the company\n"
   ]
  },
  {
   "cell_type": "markdown",
   "metadata": {},
   "source": [
    "$V_0$ : Value of company’s assets today\n",
    "\n",
    "$V_T$ : Value of company’s assets at time T\n",
    "\n",
    "$E_0$: Value of company’s equity today\n",
    "\n",
    "$E_T$: Value of company’s equity at time T\n",
    "\n",
    "$D$: Debt repayment due at time T\n",
    "\n",
    "$\\sigma_V$ : Volatility of assets (assumed constant)\n",
    "\n",
    "$\\sigma_E$ : Instantaneous volatility of equity"
   ]
  },
  {
   "cell_type": "markdown",
   "metadata": {},
   "source": [
    "If $V_T$ < $D$, it is rational for the company to default on the debt at time $T$.The value of the equity $E_T = 0$\n",
    "\n",
    "If $V_T$ > $D$, the company should make the debt repayment at time $T$ and the value of the equity $E_T = V_T- D$\n",
    "\n",
    "Therefore, the value of the firm’s equity at time T is $E_T = max(V_T-D; 0)$"
   ]
  },
  {
   "cell_type": "markdown",
   "metadata": {},
   "source": [
    "#### The Black–Scholes–Merton formula gives the value of the equity today as\n",
    "#### (1) $$E_0 = V_0 N(d_1)-De^{rT}N(d_2)$$"
   ]
  },
  {
   "cell_type": "markdown",
   "metadata": {},
   "source": [
    "$$d_1 = \\frac{ln\\left(V_0/D\\right)+\\left(r+\\sigma_V^2/2\\right)T}{\\sigma_V\\sqrt{T}}$$"
   ]
  },
  {
   "cell_type": "markdown",
   "metadata": {},
   "source": [
    "$$d_2 = d_1 - \\sigma_V \\sqrt{T}$$"
   ]
  },
  {
   "cell_type": "markdown",
   "metadata": {},
   "source": [
    "#### The risk-neutral probability that the company will default on the debt is \n",
    "$$1-N(d_2) = N(-d_2)$$\\\n",
    "To calculate this, we require $V_0$ and $\\sigma_V$ We only have one equation for two unknowns, we need a second equation to estimate $V_0$ and $\\sigma_V$ "
   ]
  },
  {
   "cell_type": "markdown",
   "metadata": {},
   "source": [
    "#### From Ito’s lemma we have, \n",
    "#### (2) $$\\sigma_E E_0 = \\frac{\\partial{E}}{\\partial{V}}\\sigma_V V_0 = N(d_1)\\sigma_V V_0$$"
   ]
  },
  {
   "cell_type": "code",
   "execution_count": 1,
   "metadata": {},
   "outputs": [],
   "source": [
    "import numpy as np\n",
    "import math as m\n",
    "import scipy\n",
    "import scipy.stats as si\n",
    "from scipy import optimize"
   ]
  },
  {
   "cell_type": "code",
   "execution_count": 2,
   "metadata": {},
   "outputs": [],
   "source": [
    "# First Equation, the B&S call price\n",
    "\n",
    "def BS_call(V0, D, T, r, sigma_asset):\n",
    "    \n",
    "    #V0: value of company's asset today\n",
    "    #D: debt repayment due at time T\n",
    "    #T: time to maturity\n",
    "    #r: interest rate\n",
    "    #sigma_asset: volatility of assets, which is assumed constant\n",
    "    \n",
    "    d1 = (np.log(V0 / D) + (r + 0.5 * sigma_asset ** 2) * T) / (sigma_asset * np.sqrt(T))\n",
    "    d2 = (np.log(V0 / D) + (r - 0.5 * sigma_asset ** 2) * T) / (sigma_asset * np.sqrt(T))\n",
    "    \n",
    "    call = (V0 * si.norm.cdf(d1, 0.0, 1.0) - D * np.exp(-r * T) * si.norm.cdf(d2, 0.0, 1.0))\n",
    "    # cdf means Cumulative distribution function\n",
    "    \n",
    "    return call"
   ]
  },
  {
   "cell_type": "code",
   "execution_count": 3,
   "metadata": {},
   "outputs": [],
   "source": [
    "#Second Equation, from Ito's Lemma\n",
    "\n",
    "def volatility_of_equity(V0, D, T, r, sigma_asset, E0):\n",
    "    \n",
    "    #V0: value of company's asset today\n",
    "    #D: debt repayment due at time T\n",
    "    #T: time to maturity\n",
    "    #r: interest rate\n",
    "    #sigma_asset: volatility of assets, which is assumed constant\n",
    "    #E0: value of company's equity today\n",
    "    \n",
    "    d1 = (np.log(V0 / D) + (r + 0.5 * sigma_asset ** 2) * T) / (sigma_asset * np.sqrt(T))\n",
    "    \n",
    "    volatility = si.norm.cdf(d1, 0.0, 1.0)*sigma_asset*V0*(1/E0)\n",
    "    # cdf means Cumulative distribution function\n",
    "    \n",
    "    return volatility "
   ]
  },
  {
   "cell_type": "code",
   "execution_count": 4,
   "metadata": {},
   "outputs": [
    {
     "data": {
      "text/plain": [
       "3004198.184797439"
      ]
     },
     "execution_count": 4,
     "metadata": {},
     "output_type": "execute_result"
    }
   ],
   "source": [
    "BS_call(12_400_000, 10_000_000, 1, 0.05, 0.2123)"
   ]
  },
  {
   "cell_type": "code",
   "execution_count": 5,
   "metadata": {},
   "outputs": [
    {
     "data": {
      "text/plain": [
       "0.7994101152481897"
      ]
     },
     "execution_count": 5,
     "metadata": {},
     "output_type": "execute_result"
    }
   ],
   "source": [
    "volatility_of_equity(12_400_000, 10_000_000, 1, 0.05, 0.2123, 3_004_198.18)"
   ]
  },
  {
   "cell_type": "markdown",
   "metadata": {},
   "source": [
    "#### In order to find $V_0$ and $\\sigma_V$, we define the following functions:"
   ]
  },
  {
   "cell_type": "markdown",
   "metadata": {},
   "source": [
    "$$F(V_0,\\sigma_V)= V_0 N(d_1)-De^{rT}N(d_2)-E_0$$"
   ]
  },
  {
   "cell_type": "markdown",
   "metadata": {},
   "source": [
    "$$G(V_0,\\sigma_V)= N(d_1)\\sigma_V V_0 \\frac{1}{E_0}-\\sigma_E$$"
   ]
  },
  {
   "cell_type": "markdown",
   "metadata": {},
   "source": [
    "Our goal is to find the vector $(V_0,\\sigma_V)$ such as:\n",
    "$$F(V_0,\\sigma_V) = 0$$\n",
    "$$G(V_0,\\sigma_V) = 0$$\n",
    "That means we need to find the roots of these two functions. The problem is that there is no closed form solution to this equation. We must vary the $(V_0,\\sigma_V)$ vector with a trial and error process in order to find the roots. Fortunately, many multi-objective optimisation programms already exist in the scipy.optimize library."
   ]
  },
  {
   "cell_type": "code",
   "execution_count": 58,
   "metadata": {},
   "outputs": [],
   "source": [
    "def fonction_a_optimiser_1(X):\n",
    "    \n",
    "    V0 = X[0]\n",
    "    sigma_asset = X[1]\n",
    "    \n",
    "    E0 = 3_004_198.18 #in million\n",
    "    D = 10_000_000   #in million\n",
    "    T = 1\n",
    "    r = 0.05 \n",
    "    sigma_equity = 0.7994101152481897\n",
    "    \n",
    "    a = BS_call(V0, D, T, r, sigma_asset)-E0\n",
    "    \n",
    "    b = volatility_of_equity(V0, D, T, r, sigma_asset, E0)-sigma_equity\n",
    "    \n",
    "    return [a, b]"
   ]
  },
  {
   "cell_type": "markdown",
   "metadata": {},
   "source": [
    "Let's test the function with the right values and see if we get $[0,0]$"
   ]
  },
  {
   "cell_type": "code",
   "execution_count": 66,
   "metadata": {},
   "outputs": [
    {
     "name": "stdout",
     "output_type": "stream",
     "text": [
      "[0.004797438625246286, 0.0]\n"
     ]
    }
   ],
   "source": [
    "liste = fonction_a_optimiser_1([12_400_000, 0.2123])\n",
    "print(liste)"
   ]
  },
  {
   "cell_type": "markdown",
   "metadata": {},
   "source": [
    "We are close enough to $[0,0]$ to say that the function is well defined"
   ]
  },
  {
   "cell_type": "markdown",
   "metadata": {},
   "source": [
    "Now let's find the roots. The purpose of HYBRD is to find a zero of a system of N non-linear functions in N variables by a modification of the Powell hybrid method.  The user must provide a subroutine which calculates the functions.  The Jacobian is then calculated by a for-ward-difference approximation."
   ]
  },
  {
   "cell_type": "code",
   "execution_count": 98,
   "metadata": {
    "scrolled": true
   },
   "outputs": [
    {
     "name": "stdout",
     "output_type": "stream",
     "text": [
      "[ 3.00419717e+06 -4.36301706e+01]\n"
     ]
    },
    {
     "name": "stderr",
     "output_type": "stream",
     "text": [
      "<ipython-input-2-46b24d4f2dce>:11: RuntimeWarning: invalid value encountered in log\n",
      "  d1 = (np.log(V0 / D) + (r + 0.5 * sigma_asset ** 2) * T) / (sigma_asset * np.sqrt(T))\n",
      "<ipython-input-2-46b24d4f2dce>:12: RuntimeWarning: invalid value encountered in log\n",
      "  d2 = (np.log(V0 / D) + (r - 0.5 * sigma_asset ** 2) * T) / (sigma_asset * np.sqrt(T))\n"
     ]
    }
   ],
   "source": [
    "sol_1 = scipy.optimize.root(fonction_a_optimiser_1, [1_000_000, 0.5],method='hybr')\n",
    "print(sol_1.qtf)"
   ]
  },
  {
   "cell_type": "markdown",
   "metadata": {},
   "source": [
    "**We get a really good approximation for the value of the company's assets $V_0$.** However the HYBRYD method do not accept the constraint on the volatility of assets: $0\\leq  \\sigma_V$ and the value of assets $0\\leq V_0$ This is a huge problem and the reason for the error message **\"invalid value encountered in log\"**. How can we resolve this issue?"
   ]
  },
  {
   "cell_type": "code",
   "execution_count": 96,
   "metadata": {},
   "outputs": [],
   "source": [
    "def fonction_a_optimiser_2(X):\n",
    "    \n",
    "    V0 = m.exp(X[0]) \n",
    "    sigma_asset = m.exp(X[1])\n",
    "    \n",
    "    E0 = 3_00.419818 #in million\n",
    "    D = 10_00.0000   #in million\n",
    "    T = 1\n",
    "    r = 0.05 \n",
    "    sigma_equity = 0.7994101152481897\n",
    "    \n",
    "    a = BS_call(V0, D, T, r, sigma_asset)-E0\n",
    "    \n",
    "    b = volatility_of_equity(V0, D, T, r, sigma_asset, E0)-sigma_equity\n",
    "    \n",
    "    return [a, b]"
   ]
  },
  {
   "cell_type": "markdown",
   "metadata": {},
   "source": [
    "You may have noticed that the output of the function above isn't the list: $$[F(V_0,\\sigma_V), G(V_0,\\sigma_V)]$$ but rather: $$[F(e^{V_0},e^{\\sigma_V}),G(e^{V_0},e^{\\sigma_V})]$$"
   ]
  },
  {
   "cell_type": "markdown",
   "metadata": {},
   "source": [
    "As explained above **optimization or root finding functions do not allow us to add a constraint** on $V_0$ and $\\sigma_V$.\n",
    "\n",
    "Our constraints being: $0\\leq  V_0$ and $0\\leq  \\sigma_V$. We do not want our root finding algorithm to search out negative values\n",
    "\n",
    "The solution we apply here is to find a **bijective function** $f$, such as $f:  [-\\infty,+\\infty] \\longmapsto[0,+\\infty]$\n",
    "\n",
    "First, we apply $f$ to $(V_0,\\sigma_V)$. Then, we minimise $[F(f(V_0),f(\\sigma_V)), G(f(V_0),f(\\sigma_V))]$.\n",
    "\n",
    "The function $f(x) = e^{x}$ is a good candidate since it satisfies the condition above. It would be even smarter to find a constant $\\alpha$ such as $f(x) = \\alpha e^{x}$ depending of $F$ and $G$ magnitude's order."
   ]
  },
  {
   "cell_type": "code",
   "execution_count": 97,
   "metadata": {},
   "outputs": [
    {
     "ename": "OverflowError",
     "evalue": "math range error",
     "output_type": "error",
     "traceback": [
      "\u001b[0;31m---------------------------------------------------------------------------\u001b[0m",
      "\u001b[0;31mOverflowError\u001b[0m                             Traceback (most recent call last)",
      "\u001b[0;32m<ipython-input-97-3c4001335668>\u001b[0m in \u001b[0;36m<module>\u001b[0;34m\u001b[0m\n\u001b[0;32m----> 1\u001b[0;31m \u001b[0msol\u001b[0m \u001b[0;34m=\u001b[0m \u001b[0mscipy\u001b[0m\u001b[0;34m.\u001b[0m\u001b[0moptimize\u001b[0m\u001b[0;34m.\u001b[0m\u001b[0mminimize\u001b[0m\u001b[0;34m(\u001b[0m\u001b[0mfonction_a_optimiser_2\u001b[0m\u001b[0;34m,\u001b[0m \u001b[0mx0\u001b[0m\u001b[0;34m=\u001b[0m\u001b[0;34m[\u001b[0m\u001b[0;36m1_000_000\u001b[0m\u001b[0;34m,\u001b[0m \u001b[0;36m0.5\u001b[0m\u001b[0;34m]\u001b[0m\u001b[0;34m,\u001b[0m\u001b[0mmethod\u001b[0m\u001b[0;34m=\u001b[0m\u001b[0;34m'Nelder-Mead'\u001b[0m\u001b[0;34m)\u001b[0m\u001b[0;34m\u001b[0m\u001b[0;34m\u001b[0m\u001b[0m\n\u001b[0m\u001b[1;32m      2\u001b[0m \u001b[0mprint\u001b[0m\u001b[0;34m(\u001b[0m\u001b[0msol\u001b[0m\u001b[0;34m.\u001b[0m\u001b[0mqtf\u001b[0m\u001b[0;34m)\u001b[0m\u001b[0;34m\u001b[0m\u001b[0;34m\u001b[0m\u001b[0m\n\u001b[1;32m      3\u001b[0m \u001b[0mprint\u001b[0m\u001b[0;34m(\u001b[0m\u001b[0;34m'----------------------------------------------------------------------------------'\u001b[0m\u001b[0;34m)\u001b[0m\u001b[0;34m\u001b[0m\u001b[0;34m\u001b[0m\u001b[0m\n\u001b[1;32m      4\u001b[0m \u001b[0mprint\u001b[0m\u001b[0;34m(\u001b[0m\u001b[0;34m'The value of company s asset is'\u001b[0m\u001b[0;34m)\u001b[0m\u001b[0;34m\u001b[0m\u001b[0;34m\u001b[0m\u001b[0m\n\u001b[1;32m      5\u001b[0m \u001b[0mprint\u001b[0m\u001b[0;34m(\u001b[0m\u001b[0mm\u001b[0m\u001b[0;34m.\u001b[0m\u001b[0mexp\u001b[0m\u001b[0;34m(\u001b[0m\u001b[0msol\u001b[0m\u001b[0;34m.\u001b[0m\u001b[0mqtf\u001b[0m\u001b[0;34m[\u001b[0m\u001b[0;36m0\u001b[0m\u001b[0;34m]\u001b[0m\u001b[0;34m)\u001b[0m\u001b[0;34m)\u001b[0m\u001b[0;34m\u001b[0m\u001b[0;34m\u001b[0m\u001b[0m\n",
      "\u001b[0;32m/Library/Frameworks/Python.framework/Versions/3.8/lib/python3.8/site-packages/scipy/optimize/_minimize.py\u001b[0m in \u001b[0;36mminimize\u001b[0;34m(fun, x0, args, method, jac, hess, hessp, bounds, constraints, tol, callback, options)\u001b[0m\n\u001b[1;32m    604\u001b[0m \u001b[0;34m\u001b[0m\u001b[0m\n\u001b[1;32m    605\u001b[0m     \u001b[0;32mif\u001b[0m \u001b[0mmeth\u001b[0m \u001b[0;34m==\u001b[0m \u001b[0;34m'nelder-mead'\u001b[0m\u001b[0;34m:\u001b[0m\u001b[0;34m\u001b[0m\u001b[0;34m\u001b[0m\u001b[0m\n\u001b[0;32m--> 606\u001b[0;31m         \u001b[0;32mreturn\u001b[0m \u001b[0m_minimize_neldermead\u001b[0m\u001b[0;34m(\u001b[0m\u001b[0mfun\u001b[0m\u001b[0;34m,\u001b[0m \u001b[0mx0\u001b[0m\u001b[0;34m,\u001b[0m \u001b[0margs\u001b[0m\u001b[0;34m,\u001b[0m \u001b[0mcallback\u001b[0m\u001b[0;34m,\u001b[0m \u001b[0;34m**\u001b[0m\u001b[0moptions\u001b[0m\u001b[0;34m)\u001b[0m\u001b[0;34m\u001b[0m\u001b[0;34m\u001b[0m\u001b[0m\n\u001b[0m\u001b[1;32m    607\u001b[0m     \u001b[0;32melif\u001b[0m \u001b[0mmeth\u001b[0m \u001b[0;34m==\u001b[0m \u001b[0;34m'powell'\u001b[0m\u001b[0;34m:\u001b[0m\u001b[0;34m\u001b[0m\u001b[0;34m\u001b[0m\u001b[0m\n\u001b[1;32m    608\u001b[0m         \u001b[0;32mreturn\u001b[0m \u001b[0m_minimize_powell\u001b[0m\u001b[0;34m(\u001b[0m\u001b[0mfun\u001b[0m\u001b[0;34m,\u001b[0m \u001b[0mx0\u001b[0m\u001b[0;34m,\u001b[0m \u001b[0margs\u001b[0m\u001b[0;34m,\u001b[0m \u001b[0mcallback\u001b[0m\u001b[0;34m,\u001b[0m \u001b[0mbounds\u001b[0m\u001b[0;34m,\u001b[0m \u001b[0;34m**\u001b[0m\u001b[0moptions\u001b[0m\u001b[0;34m)\u001b[0m\u001b[0;34m\u001b[0m\u001b[0;34m\u001b[0m\u001b[0m\n",
      "\u001b[0;32m/Library/Frameworks/Python.framework/Versions/3.8/lib/python3.8/site-packages/scipy/optimize/optimize.py\u001b[0m in \u001b[0;36m_minimize_neldermead\u001b[0;34m(func, x0, args, callback, maxiter, maxfev, disp, return_all, initial_simplex, xatol, fatol, adaptive, **unknown_options)\u001b[0m\n\u001b[1;32m    687\u001b[0m \u001b[0;34m\u001b[0m\u001b[0m\n\u001b[1;32m    688\u001b[0m     \u001b[0;32mfor\u001b[0m \u001b[0mk\u001b[0m \u001b[0;32min\u001b[0m \u001b[0mrange\u001b[0m\u001b[0;34m(\u001b[0m\u001b[0mN\u001b[0m \u001b[0;34m+\u001b[0m \u001b[0;36m1\u001b[0m\u001b[0;34m)\u001b[0m\u001b[0;34m:\u001b[0m\u001b[0;34m\u001b[0m\u001b[0;34m\u001b[0m\u001b[0m\n\u001b[0;32m--> 689\u001b[0;31m         \u001b[0mfsim\u001b[0m\u001b[0;34m[\u001b[0m\u001b[0mk\u001b[0m\u001b[0;34m]\u001b[0m \u001b[0;34m=\u001b[0m \u001b[0mfunc\u001b[0m\u001b[0;34m(\u001b[0m\u001b[0msim\u001b[0m\u001b[0;34m[\u001b[0m\u001b[0mk\u001b[0m\u001b[0;34m]\u001b[0m\u001b[0;34m)\u001b[0m\u001b[0;34m\u001b[0m\u001b[0;34m\u001b[0m\u001b[0m\n\u001b[0m\u001b[1;32m    690\u001b[0m \u001b[0;34m\u001b[0m\u001b[0m\n\u001b[1;32m    691\u001b[0m     \u001b[0mind\u001b[0m \u001b[0;34m=\u001b[0m \u001b[0mnp\u001b[0m\u001b[0;34m.\u001b[0m\u001b[0margsort\u001b[0m\u001b[0;34m(\u001b[0m\u001b[0mfsim\u001b[0m\u001b[0;34m)\u001b[0m\u001b[0;34m\u001b[0m\u001b[0;34m\u001b[0m\u001b[0m\n",
      "\u001b[0;32m/Library/Frameworks/Python.framework/Versions/3.8/lib/python3.8/site-packages/scipy/optimize/optimize.py\u001b[0m in \u001b[0;36mfunction_wrapper\u001b[0;34m(*wrapper_args)\u001b[0m\n\u001b[1;32m    425\u001b[0m     \u001b[0;32mdef\u001b[0m \u001b[0mfunction_wrapper\u001b[0m\u001b[0;34m(\u001b[0m\u001b[0;34m*\u001b[0m\u001b[0mwrapper_args\u001b[0m\u001b[0;34m)\u001b[0m\u001b[0;34m:\u001b[0m\u001b[0;34m\u001b[0m\u001b[0;34m\u001b[0m\u001b[0m\n\u001b[1;32m    426\u001b[0m         \u001b[0mncalls\u001b[0m\u001b[0;34m[\u001b[0m\u001b[0;36m0\u001b[0m\u001b[0;34m]\u001b[0m \u001b[0;34m+=\u001b[0m \u001b[0;36m1\u001b[0m\u001b[0;34m\u001b[0m\u001b[0;34m\u001b[0m\u001b[0m\n\u001b[0;32m--> 427\u001b[0;31m         \u001b[0;32mreturn\u001b[0m \u001b[0mfunction\u001b[0m\u001b[0;34m(\u001b[0m\u001b[0;34m*\u001b[0m\u001b[0;34m(\u001b[0m\u001b[0mwrapper_args\u001b[0m \u001b[0;34m+\u001b[0m \u001b[0margs\u001b[0m\u001b[0;34m)\u001b[0m\u001b[0;34m)\u001b[0m\u001b[0;34m\u001b[0m\u001b[0;34m\u001b[0m\u001b[0m\n\u001b[0m\u001b[1;32m    428\u001b[0m \u001b[0;34m\u001b[0m\u001b[0m\n\u001b[1;32m    429\u001b[0m     \u001b[0;32mreturn\u001b[0m \u001b[0mncalls\u001b[0m\u001b[0;34m,\u001b[0m \u001b[0mfunction_wrapper\u001b[0m\u001b[0;34m\u001b[0m\u001b[0;34m\u001b[0m\u001b[0m\n",
      "\u001b[0;32m<ipython-input-96-fa0a82d7f252>\u001b[0m in \u001b[0;36mfonction_a_optimiser_2\u001b[0;34m(X)\u001b[0m\n\u001b[1;32m      1\u001b[0m \u001b[0;32mdef\u001b[0m \u001b[0mfonction_a_optimiser_2\u001b[0m\u001b[0;34m(\u001b[0m\u001b[0mX\u001b[0m\u001b[0;34m)\u001b[0m\u001b[0;34m:\u001b[0m\u001b[0;34m\u001b[0m\u001b[0;34m\u001b[0m\u001b[0m\n\u001b[1;32m      2\u001b[0m \u001b[0;34m\u001b[0m\u001b[0m\n\u001b[0;32m----> 3\u001b[0;31m     \u001b[0mV0\u001b[0m \u001b[0;34m=\u001b[0m \u001b[0mm\u001b[0m\u001b[0;34m.\u001b[0m\u001b[0mexp\u001b[0m\u001b[0;34m(\u001b[0m\u001b[0mX\u001b[0m\u001b[0;34m[\u001b[0m\u001b[0;36m0\u001b[0m\u001b[0;34m]\u001b[0m\u001b[0;34m)\u001b[0m\u001b[0;34m\u001b[0m\u001b[0;34m\u001b[0m\u001b[0m\n\u001b[0m\u001b[1;32m      4\u001b[0m     \u001b[0msigma_asset\u001b[0m \u001b[0;34m=\u001b[0m \u001b[0mm\u001b[0m\u001b[0;34m.\u001b[0m\u001b[0mexp\u001b[0m\u001b[0;34m(\u001b[0m\u001b[0mX\u001b[0m\u001b[0;34m[\u001b[0m\u001b[0;36m1\u001b[0m\u001b[0;34m]\u001b[0m\u001b[0;34m)\u001b[0m\u001b[0;34m\u001b[0m\u001b[0;34m\u001b[0m\u001b[0m\n\u001b[1;32m      5\u001b[0m \u001b[0;34m\u001b[0m\u001b[0m\n",
      "\u001b[0;31mOverflowError\u001b[0m: math range error"
     ]
    }
   ],
   "source": [
    "sol = scipy.optimize.minimize(fonction_a_optimiser_2, x0=[1_000_000, 0.5],method='Nelder-Mead')\n",
    "print(sol.qtf)\n",
    "print('----------------------------------------------------------------------------------')\n",
    "print('The value of company s asset is')\n",
    "print(m.exp(sol.qtf[0]))\n",
    "print('----------------------------------------------------------------------------------')\n",
    "print('The value of asset s volatility is')\n",
    "print(m.exp(sol.qtf[1]))"
   ]
  },
  {
   "cell_type": "markdown",
   "metadata": {},
   "source": [
    "Absurd values "
   ]
  },
  {
   "cell_type": "markdown",
   "metadata": {},
   "source": [
    "**From now on, we will first run the multi-objective optimization. Since the value of the company's assets $V_0$ is really well approximated we will consider its value as found. Then we will perform a single-objective optimization in order to find the volatility of assets $\\sigma_V$, where $V_0$ will be a constant. That's not the optmal solution but its works well in practice**"
   ]
  },
  {
   "cell_type": "markdown",
   "metadata": {},
   "source": [
    "We found above $V_0 = 3 004 197.17$"
   ]
  },
  {
   "cell_type": "code",
   "execution_count": 85,
   "metadata": {},
   "outputs": [],
   "source": [
    "def fonction_v_constante(sigma_asset):\n",
    "    \n",
    "    if not 0<=sigma_asset<=1 :   \n",
    "        return np.nan\n",
    "    \n",
    "    V0 = 3_004_197.17\n",
    "    E0 = 3004198.18\n",
    "    D = 10000000\n",
    "    T = 1\n",
    "    r = 0.05 \n",
    "    sigma_equity = 0.8\n",
    "    \n",
    "    b = volatility_of_equity(V0, D, T, r, sigma_asset, E0)-sigma_equity\n",
    "    \n",
    "    return b"
   ]
  },
  {
   "cell_type": "code",
   "execution_count": 86,
   "metadata": {},
   "outputs": [
    {
     "data": {
      "text/plain": [
       "-0.7999999891558043"
      ]
     },
     "execution_count": 86,
     "metadata": {},
     "output_type": "execute_result"
    }
   ],
   "source": [
    "fonction_v_constante(0.2123)"
   ]
  },
  {
   "cell_type": "code",
   "execution_count": 95,
   "metadata": {},
   "outputs": [
    {
     "name": "stdout",
     "output_type": "stream",
     "text": [
      "[0.79996661]\n"
     ]
    }
   ],
   "source": [
    "sol = scipy.optimize.root(fonction_v_constante, x0=0.3,method='hybr')\n",
    "print(sol.qtf)"
   ]
  },
  {
   "cell_type": "markdown",
   "metadata": {},
   "source": [
    "Finally we get the value of volatility of assets $$\\sigma_v = 0.79056266$$"
   ]
  },
  {
   "cell_type": "markdown",
   "metadata": {},
   "source": [
    "#### Now we have $(V_0, \\sigma_v)$ we can calculate the risk-neutral probability that the company will default on the debt\n",
    "$$1-N(d_2) = N(-d_2)$$"
   ]
  },
  {
   "cell_type": "code",
   "execution_count": 7,
   "metadata": {},
   "outputs": [
    {
     "name": "stdout",
     "output_type": "stream",
     "text": [
      "-5.544237626418172\n",
      "0.9999999852381166\n"
     ]
    }
   ],
   "source": [
    "#The values we were missing and got with the optimization \n",
    "V0 = 3_000_000\n",
    "sigma_asset = 0.2122\n",
    "\n",
    "#The values we already got\n",
    "D = 10_000_000\n",
    "T = 1\n",
    "r = 0.05 \n",
    "\n",
    "d2 = (np.log(V0 / D) + (r - 0.5 * sigma_asset ** 2) * T) / (sigma_asset * np.sqrt(T))\n",
    "print (d2)\n",
    "\n",
    "probability_of_default = si.norm.cdf(-d2, 0.0, 1.0)\n",
    "print(probability_of_default)"
   ]
  },
  {
   "cell_type": "code",
   "execution_count": null,
   "metadata": {},
   "outputs": [],
   "source": []
  }
 ],
 "metadata": {
  "kernelspec": {
   "display_name": "Python 3",
   "language": "python",
   "name": "python3"
  },
  "language_info": {
   "codemirror_mode": {
    "name": "ipython",
    "version": 3
   },
   "file_extension": ".py",
   "mimetype": "text/x-python",
   "name": "python",
   "nbconvert_exporter": "python",
   "pygments_lexer": "ipython3",
   "version": "3.8.6"
  }
 },
 "nbformat": 4,
 "nbformat_minor": 4
}
