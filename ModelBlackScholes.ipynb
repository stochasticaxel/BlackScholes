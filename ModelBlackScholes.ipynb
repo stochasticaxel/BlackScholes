{
 "cells": [
  {
   "cell_type": "markdown",
   "metadata": {},
   "source": [
    "# How to use Equity prices to estimate default probabilities?\n"
   ]
  },
  {
   "cell_type": "markdown",
   "metadata": {},
   "source": [
    "### In 1974, Merton published \"On the Pricing of Corporate Debt: The Risk Structure of Interest Rates\", in which he proposes a model where a company’s equity is an option on the assets of the company\n"
   ]
  },
  {
   "cell_type": "markdown",
   "metadata": {},
   "source": [
    "$V_0$ : Value of company’s assets today\\\n",
    "$V_T$ : Value of company’s assets at time T\\\n",
    "$E_0$ : Value of company’s equity today\\\n",
    "$E_T$ : Value of company’s equity at time T\\\n",
    "$D$: Debt repayment due at time T\\\n",
    "$\\sigma_V$ : Volatility of assets (assumed constant)\\\n",
    "$\\sigma_E$ : Instantaneous volatility of equity"
   ]
  },
  {
   "cell_type": "markdown",
   "metadata": {},
   "source": [
    "If $V_T$ < $D$, it is rational for the company to default on the debt at time $T$.The value of the equity $E_T = 0$\\\n",
    "If $V_T$ > $D$, the company should make the debt repayment at time $T$ and the value of the equity $E_T = V_T- D$\\\n",
    "Therefore, the value of the firm’s equity at time T is $E_T = max(V_T-D; 0)$"
   ]
  },
  {
   "cell_type": "markdown",
   "metadata": {},
   "source": [
    "### The Black–Scholes–Merton formula gives the value of the equity today as\n",
    "### (1) $$E_0 = V_0 N(d_1)-De^{rT}N(d_2)$$"
   ]
  },
  {
   "cell_type": "markdown",
   "metadata": {},
   "source": [
    "$$d_1 = \\frac{ln\\left(V_0/D\\right)+\\left(r+\\sigma_V^2/2\\right)T}{\\sigma_V\\sqrt{T}}$$"
   ]
  },
  {
   "cell_type": "markdown",
   "metadata": {},
   "source": [
    "$$d_2 = d_1 - \\sigma_V \\sqrt{T}$$"
   ]
  },
  {
   "cell_type": "markdown",
   "metadata": {},
   "source": [
    "### The risk-neutral probability that the company will default on the debt is \n",
    "$$1-N(d_2) = N(-d_2)$$\\\n",
    "To calculate this, we require $V_0$ and $\\sigma_V$ We only have one equation for two unknowns, we need a second equation to estimate $V_0$ and $\\sigma_V$ "
   ]
  },
  {
   "cell_type": "markdown",
   "metadata": {},
   "source": [
    "### From Ito’s lemma we have, \n",
    "### (2) $$\\sigma_E E_0 = \\frac{\\partial{E}}{\\partial{V}}\\sigma_V V_0 = N(d_1)\\sigma_V V_0$$"
   ]
  },
  {
   "cell_type": "code",
   "execution_count": 88,
   "metadata": {},
   "outputs": [],
   "source": [
    "import numpy as np\n",
    "import scipy.stats as si\n",
    "from scipy import optimize"
   ]
  },
  {
   "cell_type": "code",
   "execution_count": 64,
   "metadata": {},
   "outputs": [],
   "source": [
    "# First Equation, the B&S call price\n",
    "\n",
    "def BS_call(V0, D, T, r, sigma):\n",
    "    \n",
    "    #V0: value of company's asset today\n",
    "    #D: debt repayment due at time T\n",
    "    #T: time to maturity\n",
    "    #r: interest rate\n",
    "    #sigma: volatility of assets (assumed constant)\n",
    "    \n",
    "    d1 = (np.log(V0 / D) + (r + 0.5 * sigma ** 2) * T) / (sigma * np.sqrt(T))\n",
    "    d2 = (np.log(V0 / D) + (r - 0.5 * sigma ** 2) * T) / (sigma * np.sqrt(T))\n",
    "    \n",
    "    call = (V0 * si.norm.cdf(d1, 0.0, 1.0) - D * np.exp(-r * T) * si.norm.cdf(d2, 0.0, 1.0))\n",
    "    # cdf means Cumulative distribution function\n",
    "    \n",
    "    return call"
   ]
  },
  {
   "cell_type": "code",
   "execution_count": 56,
   "metadata": {},
   "outputs": [],
   "source": [
    "#Second Equation, from Ito's Lemma\n",
    "\n",
    "def volatility_of_equity(V0, D, T, r, sigma, E0):\n",
    "    \n",
    "    #V0: value of company's asset today\n",
    "    #D: debt repayment due at time T\n",
    "    #T: time to maturity\n",
    "    #r: interest rate\n",
    "    #sigma: volatility of assets (assumed constant)\n",
    "    #E0: value of company's equity today\n",
    "    \n",
    "    d1 = (np.log(V0 / D) + (r + 0.5 * sigma ** 2) * T) / (sigma * np.sqrt(T))\n",
    "    \n",
    "    volatility = si.norm.cdf(d1, 0.0, 1.0)*sigma*V0*(1/E0)\n",
    "    # cdf means Cumulative distribution function\n",
    "    \n",
    "    return volatility "
   ]
  },
  {
   "cell_type": "code",
   "execution_count": 57,
   "metadata": {},
   "outputs": [
    {
     "data": {
      "image/png": "[encoded data removed]",
      "text/latex": [
       "$\\displaystyle 3004198.184797439$"
      ],
      "text/plain": [
       "3004198.184797439"
      ]
     },
     "execution_count": 57,
     "metadata": {},
     "output_type": "execute_result"
    }
   ],
   "source": [
    "BS_call(12400000, 10000000, 1, 0.05, 0.2123)"
   ]
  },
  {
   "cell_type": "code",
   "execution_count": 108,
   "metadata": {},
   "outputs": [
    {
     "data": {
      "image/png": "[encoded data removed]",
      "text/latex": [
       "$\\displaystyle 0.8005288044340673$"
      ],
      "text/plain": [
       "0.8005288044340673"
      ]
     },
     "execution_count": 108,
     "metadata": {},
     "output_type": "execute_result"
    }
   ],
   "source": [
    "volatility_of_equity(12400000, 10000000, 1, 0.05, 0.2123, 3000000)"
   ]
  },
  {
   "cell_type": "markdown",
   "metadata": {},
   "source": [
    "### In order to find $V_0$ and $\\sigma_V$, we define the following functions: \n",
    "$$F(V_0,\\sigma_V)= V_0 N(d_1)-De^{rT}N(d_2)-E_0$$\n",
    "$$G(V_0,\\sigma_V)= N(d_1)\\sigma_V V_0 \\frac{1}{E_0}-\\sigma_E$$"
   ]
  },
  {
   "cell_type": "markdown",
   "metadata": {},
   "source": [
    "### Our goal is to find the vector $(V_0,\\sigma_V)$ such as:\n",
    "$$F(V_0,\\sigma_V) = 0$$\n",
    "$$G(V_0,\\sigma_V) = 0$$\n",
    "### That means we need to find the roots of these two functions, but the problem is that there is no closed form solution to this equation. We must vary the $(V_0,\\sigma_V)$ vector with a trial and error process in order to optimize its value and find the roots. Fortunately, many multi-objective optimisation programms already exist in the scipy.optimize library."
   ]
  },
  {
   "cell_type": "code",
   "execution_count": 175,
   "metadata": {},
   "outputs": [],
   "source": [
    "def fonction_a_optimiser(X):\n",
    "    \n",
    "    V0 = X[0]\n",
    "    sigma_asset = X[1] \n",
    "    \n",
    "    if not 0<=sigma_asset<=1 :   \n",
    "        return [np.nan, np.nan]\n",
    "    if not 0<=sigma_asset :\n",
    "         return [np.nan, np.nan]\n",
    "    \n",
    "    E0 = 3004198.18\n",
    "    D = 10000000\n",
    "    T = 1\n",
    "    r = 0.05 \n",
    "    sigma_equity = 0.8005288044340673\n",
    "    \n",
    "    a = BS_call(V0, D, T, r, sigma_asset)-E0\n",
    "    \n",
    "    b = volatility_of_equity(V0, D, T, r, sigma_asset, E0)-sigma_equity\n",
    "    \n",
    "    return [a, b]"
   ]
  },
  {
   "cell_type": "code",
   "execution_count": 176,
   "metadata": {},
   "outputs": [
    {
     "data": {
      "image/png": "[encoded data removed]",
      "text/latex": [
       "$\\displaystyle \\left[ 0.004797438625246286, \\  -0.0011186891858775416\\right]$"
      ],
      "text/plain": [
       "[0.004797438625246286, -0.0011186891858775416]"
      ]
     },
     "execution_count": 176,
     "metadata": {},
     "output_type": "execute_result"
    }
   ],
   "source": [
    "fonction_a_optimiser([12400000, 0.2123])"
   ]
  },
  {
   "cell_type": "markdown",
   "metadata": {},
   "source": [
    "### The purpose of HYBRD is to find a zero of a system of N non-linear functions in N variables by a modification of the Powell hybrid method.  The user must provide a subroutine which calculates the functions.  The Jacobian is then calculated by a for-ward-difference approximation."
   ]
  },
  {
   "cell_type": "code",
   "execution_count": 186,
   "metadata": {},
   "outputs": [
    {
     "name": "stdout",
     "output_type": "stream",
     "text": [
      "    fjac: array([[-1.00000000e+00, -1.65536732e-06],\n",
      "       [ 1.65536732e-06, -1.00000000e+00]])\n",
      "     fun: array([-3.00419717e+06, -8.00527066e-01])\n",
      " message: 'The iteration is not making good progress, as measured by the \\n  improvement from the last ten iterations.'\n",
      "    nfev: 15\n",
      "     qtf: array([ 3.00419717e+06, -4.17252275e+00])\n",
      "       r: array([nan, nan, nan])\n",
      "  status: 5\n",
      " success: False\n",
      "       x: array([1.e+06, 5.e-01])\n"
     ]
    }
   ],
   "source": [
    "sol = scipy.optimize.root(fonction_a_optimiser, x0=[1000_000,0.5],method='hybr')\n",
    "print(sol)"
   ]
  },
  {
   "cell_type": "code",
   "execution_count": 188,
   "metadata": {},
   "outputs": [
    {
     "data": {
      "text/plain": [
       "array([ 3.00419717e+06, -4.17252275e+00])"
      ]
     },
     "execution_count": 188,
     "metadata": {},
     "output_type": "execute_result"
    }
   ],
   "source": [
    "sol.qtf"
   ]
  },
  {
   "cell_type": "markdown",
   "metadata": {},
   "source": [
    "### We get a really good approximation for the value of the company's assets $V_0$. However the HYBRYD method do not accept the constraint on the volatility of assets: $0\\leq  \\sigma_V \\leq 1$. This is a huge problem since we get completely out of the range values for $\\sigma_V$, even with an initilal guess at $0.5$. How can we resolve this issue?"
   ]
  },
  {
   "cell_type": "markdown",
   "metadata": {},
   "source": [
    "### One solution could be to find a bijective function $f$, such as  $f:[0,1]\\longmapsto R^2$\n",
    "### apply $f$ to $\\sigma_V$ $\\Longrightarrow$ find the roots with HYBRD method on $f(\\sigma_V)$ $\\Longrightarrow$ apply $f^{-1}$\n",
    "### Inverse Hyperbolic Tangent is a good candidate since it satisfies all the conditions above "
   ]
  },
  {
   "cell_type": "code",
   "execution_count": 197,
   "metadata": {},
   "outputs": [],
   "source": [
    "E0 = 3004198.18\n",
    "D = 10000000\n",
    "T = 1\n",
    "r = 0.05 \n",
    "sigma_equity = 0.8005288044340673\n",
    "\n",
    "def fonction_arctanh(X):\n",
    "    \n",
    "    V0 = X[0]\n",
    "    sigma_asset = X[1] \n",
    "    \n",
    "    new_sigma = np.arctanh(2*sigma_asset-1)\n",
    "    \n",
    "    a = BS_call(V0, D, T, r, new_sigma)-E0\n",
    "    \n",
    "    b = volatility_of_equity(V0, D, T, r, new_sigma, E0)-sigma_equity\n",
    "    \n",
    "    return [a, b]"
   ]
  },
  {
   "cell_type": "code",
   "execution_count": 199,
   "metadata": {},
   "outputs": [
    {
     "name": "stdout",
     "output_type": "stream",
     "text": [
      "    fjac: array([[1., 0.],\n",
      "       [0., 1.]])\n",
      "     fun: array([-3.00419818e+06, -8.00528804e-01])\n",
      " message: 'The iteration is not making good progress, as measured by the \\n  improvement from the last ten iterations.'\n",
      "    nfev: 15\n",
      "     qtf: array([-3.00419818e+06, -8.00528804e-01])\n",
      "       r: array([nan, nan, nan])\n",
      "  status: 5\n",
      " success: False\n",
      "       x: array([1.e+06, 5.e-01])\n"
     ]
    },
    {
     "name": "stderr",
     "output_type": "stream",
     "text": [
      "<ipython-input-64-2e0661643432>:11: RuntimeWarning: divide by zero encountered in double_scalars\n",
      "  d1 = (np.log(V0 / D) + (r + 0.5 * sigma ** 2) * T) / (sigma * np.sqrt(T))\n",
      "<ipython-input-64-2e0661643432>:12: RuntimeWarning: divide by zero encountered in double_scalars\n",
      "  d2 = (np.log(V0 / D) + (r - 0.5 * sigma ** 2) * T) / (sigma * np.sqrt(T))\n",
      "<ipython-input-197-5f03f05edcbd>:12: RuntimeWarning: invalid value encountered in arctanh\n",
      "  new_sigma = np.arctanh(2*sigma_asset-1)\n"
     ]
    }
   ],
   "source": [
    "sol = scipy.optimize.root(fonction_arctanh, x0=[1000_000,0.5],method='hybr')\n",
    "print(sol)"
   ]
  },
  {
   "cell_type": "code",
   "execution_count": 200,
   "metadata": {},
   "outputs": [
    {
     "data": {
      "text/plain": [
       "     fun: array([-3.00419717e+06, -8.00527066e-01])\n",
       " message: 'too many function evaluations required'\n",
       "    nfev: 1000\n",
       "     nit: 0\n",
       " success: False\n",
       "       x: array([1.e+06, 5.e-01])"
      ]
     },
     "execution_count": 200,
     "metadata": {},
     "output_type": "execute_result"
    }
   ],
   "source": [
    "scipy.optimize.root(fonction_a_optimiser, x0=[1000_000,0.5], method='df-sane')"
   ]
  },
  {
   "cell_type": "code",
   "execution_count": null,
   "metadata": {},
   "outputs": [],
   "source": []
  },
  {
   "cell_type": "code",
   "execution_count": 185,
   "metadata": {},
   "outputs": [
    {
     "ename": "ValueError",
     "evalue": "The truth value of an array with more than one element is ambiguous. Use a.any() or a.all()",
     "output_type": "error",
     "traceback": [
      "\u001b[0;31m---------------------------------------------------------------------------\u001b[0m",
      "\u001b[0;31mValueError\u001b[0m                                Traceback (most recent call last)",
      "\u001b[0;32m<ipython-input-185-dcedbac4b519>\u001b[0m in \u001b[0;36m<module>\u001b[0;34m\u001b[0m\n\u001b[1;32m      5\u001b[0m \u001b[0my\u001b[0m \u001b[0;34m=\u001b[0m \u001b[0mnp\u001b[0m\u001b[0;34m.\u001b[0m\u001b[0marange\u001b[0m\u001b[0;34m(\u001b[0m\u001b[0mstart\u001b[0m\u001b[0;34m=\u001b[0m\u001b[0;36m0\u001b[0m\u001b[0;34m,\u001b[0m \u001b[0mstop\u001b[0m\u001b[0;34m=\u001b[0m\u001b[0;36m1\u001b[0m\u001b[0;34m,\u001b[0m \u001b[0mstep\u001b[0m\u001b[0;34m=\u001b[0m\u001b[0;36m0.0002\u001b[0m\u001b[0;34m)\u001b[0m\u001b[0;34m\u001b[0m\u001b[0;34m\u001b[0m\u001b[0m\n\u001b[1;32m      6\u001b[0m \u001b[0mX\u001b[0m\u001b[0;34m,\u001b[0m\u001b[0mY\u001b[0m \u001b[0;34m=\u001b[0m \u001b[0mnp\u001b[0m\u001b[0;34m.\u001b[0m\u001b[0mmeshgrid\u001b[0m\u001b[0;34m(\u001b[0m\u001b[0mx\u001b[0m\u001b[0;34m,\u001b[0m\u001b[0my\u001b[0m\u001b[0;34m)\u001b[0m\u001b[0;34m\u001b[0m\u001b[0;34m\u001b[0m\u001b[0m\n\u001b[0;32m----> 7\u001b[0;31m \u001b[0mZ\u001b[0m \u001b[0;34m=\u001b[0m \u001b[0mfonction_a_optimiser\u001b[0m\u001b[0;34m(\u001b[0m\u001b[0;34m[\u001b[0m\u001b[0mx\u001b[0m\u001b[0;34m,\u001b[0m\u001b[0my\u001b[0m\u001b[0;34m]\u001b[0m\u001b[0;34m)\u001b[0m\u001b[0;34m\u001b[0m\u001b[0;34m\u001b[0m\u001b[0m\n\u001b[0m\u001b[1;32m      8\u001b[0m \u001b[0;34m\u001b[0m\u001b[0m\n\u001b[1;32m      9\u001b[0m \u001b[0;34m\u001b[0m\u001b[0m\n",
      "\u001b[0;32m<ipython-input-175-77aedfd0e731>\u001b[0m in \u001b[0;36mfonction_a_optimiser\u001b[0;34m(X)\u001b[0m\n\u001b[1;32m      4\u001b[0m     \u001b[0msigma_asset\u001b[0m \u001b[0;34m=\u001b[0m \u001b[0mX\u001b[0m\u001b[0;34m[\u001b[0m\u001b[0;36m1\u001b[0m\u001b[0;34m]\u001b[0m\u001b[0;34m\u001b[0m\u001b[0;34m\u001b[0m\u001b[0m\n\u001b[1;32m      5\u001b[0m \u001b[0;34m\u001b[0m\u001b[0m\n\u001b[0;32m----> 6\u001b[0;31m     \u001b[0;32mif\u001b[0m \u001b[0;32mnot\u001b[0m \u001b[0;36m0\u001b[0m\u001b[0;34m<=\u001b[0m\u001b[0msigma_asset\u001b[0m\u001b[0;34m<=\u001b[0m\u001b[0;36m1\u001b[0m \u001b[0;34m:\u001b[0m\u001b[0;34m\u001b[0m\u001b[0;34m\u001b[0m\u001b[0m\n\u001b[0m\u001b[1;32m      7\u001b[0m         \u001b[0;32mreturn\u001b[0m \u001b[0;34m[\u001b[0m\u001b[0mnp\u001b[0m\u001b[0;34m.\u001b[0m\u001b[0mnan\u001b[0m\u001b[0;34m,\u001b[0m \u001b[0mnp\u001b[0m\u001b[0;34m.\u001b[0m\u001b[0mnan\u001b[0m\u001b[0;34m]\u001b[0m\u001b[0;34m\u001b[0m\u001b[0;34m\u001b[0m\u001b[0m\n\u001b[1;32m      8\u001b[0m     \u001b[0;32mif\u001b[0m \u001b[0;32mnot\u001b[0m \u001b[0;36m0\u001b[0m\u001b[0;34m<=\u001b[0m\u001b[0msigma_asset\u001b[0m \u001b[0;34m:\u001b[0m\u001b[0;34m\u001b[0m\u001b[0;34m\u001b[0m\u001b[0m\n",
      "\u001b[0;31mValueError\u001b[0m: The truth value of an array with more than one element is ambiguous. Use a.any() or a.all()"
     ]
    }
   ],
   "source": [
    "from mpl_toolkits import mplot3d\n",
    "import matplotlib.pyplot as plt\n",
    "\n",
    "x = np.arange(start=1, stop=50_000_000, step=10_000)\n",
    "y = np.arange(start=0, stop=1, step=0.0002)\n",
    "X,Y = np.meshgrid(x,y)\n",
    "Z = fonction_a_optimiser([x,y])\n",
    "\n",
    "\n",
    "fig = plt.figure(figsize=(6,6))\n",
    "ax = fig.add_subplot(111, projection='3d')\n",
    "\n",
    "\n",
    "# Plot a 3D surface\n",
    "ax.plot_surface(X, Y, Z)\n",
    "\n",
    "\n",
    "plt.show()"
   ]
  }
 ],
 "metadata": {
  "kernelspec": {
   "display_name": "Python 3",
   "language": "python",
   "name": "python3"
  },
  "language_info": {
   "codemirror_mode": {
    "name": "ipython",
    "version": 3
   },
   "file_extension": ".py",
   "mimetype": "text/x-python",
   "name": "python",
   "nbconvert_exporter": "python",
   "pygments_lexer": "ipython3",
   "version": "3.8.6"
  }
 },
 "nbformat": 4,
 "nbformat_minor": 4
}
